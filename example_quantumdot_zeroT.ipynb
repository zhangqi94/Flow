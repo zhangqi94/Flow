{
 "cells": [
  {
   "cell_type": "code",
   "execution_count": null,
   "metadata": {},
   "outputs": [],
   "source": [
    "import jax\n",
    "jax.config.update(\"jax_enable_x64\", True)\n",
    "import jax.numpy as jnp\n",
    "from jax.example_libraries import optimizers\n",
    "import numpy as np\n",
    "import haiku as hk\n",
    "import optax\n",
    "import matplotlib.pyplot as plt \n",
    "from IPython import display"
   ]
  },
  {
   "cell_type": "code",
   "execution_count": null,
   "metadata": {},
   "outputs": [],
   "source": [
    "print(jax.devices())\n",
    "!nvidia-smi"
   ]
  },
  {
   "cell_type": "code",
   "execution_count": null,
   "metadata": {},
   "outputs": [],
   "source": [
    "key = jax.random.PRNGKey(0)\n",
    "\n",
    "n = 20\n",
    "dim = 2\n",
    "lr = 0.01"
   ]
  },
  {
   "cell_type": "markdown",
   "metadata": {},
   "source": [
    "$$H= \\sum_{i<j} \\frac{1}{|\\boldsymbol{x}_i - \\boldsymbol{x}_j|} + \\sum_i  \\boldsymbol{x}_i^2 . $$"
   ]
  },
  {
   "cell_type": "code",
   "execution_count": null,
   "metadata": {},
   "outputs": [],
   "source": [
    "def energy_fn(x, n, dim):\n",
    "    i, j = jnp.triu_indices(n, k=1)\n",
    "    rij = jnp.linalg.norm((jnp.reshape(x, (n, 1, dim)) - jnp.reshape(x, (1, n, dim)))[i,j], axis=-1)\n",
    "    return jnp.sum(x**2) + jnp.sum(1/rij)\n",
    "\n",
    "batch_energy = jax.vmap(energy_fn, (0, None, None), 0)"
   ]
  },
  {
   "cell_type": "code",
   "execution_count": null,
   "metadata": {},
   "outputs": [],
   "source": [
    "key, key2 = jax.random.split(key)\n",
    "x = jax.random.normal(key, (n, dim))\n",
    "energy_and_grad = jax.value_and_grad(energy_fn)\n"
   ]
  },
  {
   "cell_type": "code",
   "execution_count": null,
   "metadata": {},
   "outputs": [],
   "source": [
    "def energy_optimize(x):\n",
    "    energy, grad = energy_and_grad(x, n, dim)\n",
    "    x = x - lr * grad\n",
    "    return x, energy, -grad*0.1"
   ]
  },
  {
   "cell_type": "code",
   "execution_count": null,
   "metadata": {},
   "outputs": [],
   "source": [
    "energy_history = []\n",
    "for i in range(500):\n",
    "\n",
    "    x, e, g = energy_optimize(x)\n",
    "    energy_history.append([e]) \n",
    "    display.clear_output(wait=True)\n",
    "\n",
    "    fig = plt.figure(figsize=(12, 6), dpi = 300)\n",
    "    plt.title(\"epoch: %.3d    E: %.6f\" % (i, e), fontsize=16)\n",
    "    plt.axis(\"off\")\n",
    "    plt.subplot(1, 2, 1)\n",
    "    plt.scatter(x[:, 0], x[:, 1], s=10)\n",
    "    plt.quiver(x[:, 0], x[:, 1], g[:, 0], g[:, 1], color='red', scale=1)\n",
    "    plt.xlim([-5, 5])\n",
    "    plt.ylim([-5, 5])\n",
    "\n",
    "    plt.subplot(1, 2, 2)\n",
    "    y = np.array(energy_history)\n",
    "    plt.errorbar(np.arange(i+1), y, marker='o', capsize=8)\n",
    "    plt.xlabel('epochs')\n",
    "    plt.ylabel('energy')\n",
    "    plt.pause(0.01)\n",
    "\n",
    "print(e)"
   ]
  }
 ],
 "metadata": {
  "kernelspec": {
   "display_name": "Python 3 (ipykernel)",
   "language": "python",
   "name": "python3"
  },
  "language_info": {
   "codemirror_mode": {
    "name": "ipython",
    "version": 3
   },
   "file_extension": ".py",
   "mimetype": "text/x-python",
   "name": "python",
   "nbconvert_exporter": "python",
   "pygments_lexer": "ipython3",
   "version": "3.12.2"
  }
 },
 "nbformat": 4,
 "nbformat_minor": 2
}
