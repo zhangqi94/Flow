{
 "cells": [
  {
   "cell_type": "markdown",
   "metadata": {},
   "source": [
    "Automatic differentiation with `grad`\n",
    "\n",
    "$$\n",
    "\\nabla_x f = \\frac{df}{dx}\n",
    "$$"
   ]
  },
  {
   "cell_type": "code",
   "execution_count": null,
   "metadata": {},
   "outputs": [],
   "source": [
    "import jax\n",
    "import jax.numpy as jnp\n",
    "\n",
    "print(jax.devices())\n",
    "#!nvidia-smi"
   ]
  },
  {
   "cell_type": "code",
   "execution_count": null,
   "metadata": {},
   "outputs": [],
   "source": [
    "def fn(x):\n",
    "    return jnp.sin(x**2)\n",
    "\n",
    "grad_fn = jax.grad(fn)\n",
    "grad_fn(1.0)"
   ]
  },
  {
   "cell_type": "code",
   "execution_count": null,
   "metadata": {},
   "outputs": [],
   "source": [
    "grad3_fn = jax.grad(jax.grad(jax.grad(fn)))\n",
    "grad3_fn(1.0)"
   ]
  },
  {
   "cell_type": "markdown",
   "metadata": {},
   "source": [
    "float32 -> float64"
   ]
  },
  {
   "cell_type": "code",
   "execution_count": null,
   "metadata": {},
   "outputs": [],
   "source": [
    "import jax\n",
    "jax.config.update(\"jax_enable_x64\", True)\n",
    "import jax.numpy as jnp"
   ]
  },
  {
   "cell_type": "code",
   "execution_count": null,
   "metadata": {},
   "outputs": [],
   "source": [
    "def fn(x):\n",
    "    return jnp.sin(x**2)\n",
    "\n",
    "grad_fn = jax.grad(fn)\n",
    "grad_fn(1.0)\n",
    "\n",
    "grad_fn(jnp.array(1.0, dtype=jnp.float64))"
   ]
  },
  {
   "cell_type": "markdown",
   "metadata": {},
   "source": [
    "All functions should written in JAX!"
   ]
  },
  {
   "cell_type": "code",
   "execution_count": null,
   "metadata": {},
   "outputs": [],
   "source": [
    "import numpy as np\n",
    "def fn(x):\n",
    "    return np.sin(x**2)\n",
    "\n",
    "jax.grad(fn)(1.0)"
   ]
  },
  {
   "cell_type": "markdown",
   "metadata": {},
   "source": [
    "Calculate Jacobian\n",
    "\n",
    "$$\n",
    "J = \\frac{\\partial (z_1, z_2, z_3)}{\\partial (x_1, x_2, x_3)}\n",
    "=\n",
    "\\left(\n",
    "\\begin{matrix}\n",
    "\\frac{\\partial z_1}{\\partial x_1} & \\frac{\\partial z_1}{\\partial x_2} & \\frac{\\partial z_1}{\\partial x_3} \\\\\n",
    "\\frac{\\partial z_2}{\\partial x_1} & \\frac{\\partial z_2}{\\partial x_2} & \\frac{\\partial z_2}{\\partial x_3} \\\\\n",
    "\\frac{\\partial z_3}{\\partial x_1} & \\frac{\\partial z_3}{\\partial x_2} & \\frac{\\partial z_3}{\\partial x_3} \\\\\n",
    "\\end{matrix}\n",
    "\\right)\n",
    "$$"
   ]
  },
  {
   "cell_type": "code",
   "execution_count": null,
   "metadata": {},
   "outputs": [],
   "source": [
    "def cartesian_to_spherical(x):\n",
    "    r = jnp.sqrt(x[0]**2 + x[1]**2 + x[2]**2)\n",
    "    theta = jnp.arccos(x[2] / r)\n",
    "    phi = jnp.arctan2(x[1], x[0])\n",
    "    return jnp.array([r, theta, phi])"
   ]
  },
  {
   "cell_type": "code",
   "execution_count": null,
   "metadata": {},
   "outputs": [],
   "source": [
    "x = jnp.array([1.0, 1.0, 1.0], dtype=jnp.float64)"
   ]
  },
  {
   "cell_type": "code",
   "execution_count": null,
   "metadata": {},
   "outputs": [],
   "source": [
    "jax.jacfwd(cartesian_to_spherical)(x)"
   ]
  },
  {
   "cell_type": "code",
   "execution_count": null,
   "metadata": {},
   "outputs": [],
   "source": [
    "jax.jacrev(cartesian_to_spherical)(x)"
   ]
  },
  {
   "cell_type": "markdown",
   "metadata": {},
   "source": [
    "Compilation with `jit`\n",
    "\n",
    "(Just-in-time compilation)"
   ]
  },
  {
   "cell_type": "code",
   "execution_count": null,
   "metadata": {},
   "outputs": [],
   "source": [
    "def slow_f(x):\n",
    "    return x * x + x * 2.0\n",
    "\n",
    "fast_f = jax.jit(slow_f)\n",
    "\n",
    "x = jnp.ones((5000, 5000))\n",
    "%timeit -n10 -r10 fast_f(x)\n",
    "%timeit -n10 -r10 slow_f(x)"
   ]
  },
  {
   "cell_type": "markdown",
   "metadata": {},
   "source": [
    "The Hamiltonian of the classical Coulomb gas:\n",
    "$$H= \\sum_{i<j} \\frac{1}{|\\boldsymbol{x}_i - \\boldsymbol{x}_j|} + \\sum_i  \\boldsymbol{x}_i^2 . $$\n",
    "The second term is a harmonic trapping potential. \n",
    "\n",
    "It makes our story easier (no need to consider periodic bondary condition or Ewald sum for long range interaction.)\n"
   ]
  },
  {
   "cell_type": "code",
   "execution_count": null,
   "metadata": {},
   "outputs": [],
   "source": [
    "n =10\n",
    "i, j = jnp.triu_indices(n, k=1)\n",
    "    \n",
    "print(i)\n",
    "print(j)"
   ]
  },
  {
   "cell_type": "code",
   "execution_count": null,
   "metadata": {},
   "outputs": [],
   "source": [
    "def energy_fun(x, n, dim):\n",
    "    i, j = jnp.triu_indices(n, k=1)\n",
    "    rij = jnp.linalg.norm((jnp.reshape(x, (n, 1, dim)) - jnp.reshape(x, (1, n, dim)))[i,j], axis=-1)\n",
    "    V = jnp.sum(x**2) + jnp.sum(1/rij)\n",
    "    return V\n",
    "\n",
    "fast_energy_fun = jax.jit(energy_fun, static_argnums=(1, 2))"
   ]
  },
  {
   "cell_type": "code",
   "execution_count": null,
   "metadata": {},
   "outputs": [],
   "source": [
    "key = jax.random.PRNGKey(42)\n",
    "print(key)\n",
    "key, subkey = jax.random.split(key)\n",
    "print(key, subkey)\n",
    "\n",
    "n = 100\n",
    "dim = 2\n",
    "x = jax.random.normal(key, (n, dim))"
   ]
  },
  {
   "cell_type": "code",
   "execution_count": null,
   "metadata": {},
   "outputs": [],
   "source": [
    "%timeit -n10 -r10 energy_fun(x, n, dim)\n",
    "%timeit -n10 -r10 fast_energy_fun(x, n, dim)"
   ]
  },
  {
   "cell_type": "code",
   "execution_count": null,
   "metadata": {},
   "outputs": [],
   "source": [
    "energy_fn = lambda x: energy_fun(x, n, dim)\n",
    "\n",
    "grad_fn = jax.grad(energy_fn)\n",
    "grad_fn_jacfwd = jax.jacfwd(energy_fn)\n",
    "grad_fn_jacrev = jax.jacrev(energy_fn)\n",
    "\n",
    "print(grad_fn)"
   ]
  },
  {
   "cell_type": "code",
   "execution_count": null,
   "metadata": {},
   "outputs": [],
   "source": [
    "g1 = grad_fn(x)\n",
    "g2 = grad_fn_jacfwd(x)\n",
    "g3 = grad_fn_jacrev(x)\n",
    "print(jnp.isclose(g1, g2))\n",
    "print(jnp.isclose(g1, g3))"
   ]
  },
  {
   "cell_type": "code",
   "execution_count": null,
   "metadata": {},
   "outputs": [],
   "source": [
    "%timeit -n10 -r100 grad_fn(x)\n",
    "%timeit -n10 -r100 grad_fn_jacfwd(x)\n",
    "%timeit -n10 -r100 grad_fn_jacrev(x)"
   ]
  },
  {
   "cell_type": "markdown",
   "metadata": {},
   "source": [
    "Auto-vectorization with `vmap`"
   ]
  },
  {
   "cell_type": "code",
   "execution_count": null,
   "metadata": {},
   "outputs": [],
   "source": [
    "n, dim = 6, 2\n",
    "x = jax.random.normal(key, (n, dim))\n",
    "print(\"x:\", x.shape, x)\n",
    "E = energy_fun(x, n, dim)\n",
    "print(\"E:\", E)"
   ]
  },
  {
   "cell_type": "code",
   "execution_count": null,
   "metadata": {},
   "outputs": [],
   "source": [
    "batch = 1024\n",
    "n = 6\n",
    "dim = 2\n",
    "\n",
    "energy_fun_vmap = jax.vmap(energy_fun, in_axes=(0, None, None), out_axes=(0))\n",
    "\n",
    "x = jax.random.normal(key, (batch, n, dim))\n",
    "print(\"x:\", x.shape)\n",
    "E = energy_fun_vmap(x, n, dim)\n",
    "print(\"E:\", E.shape, E)"
   ]
  }
 ],
 "metadata": {
  "kernelspec": {
   "display_name": "Python 3 (ipykernel)",
   "language": "python",
   "name": "python3"
  }
 },
 "nbformat": 4,
 "nbformat_minor": 2
}
