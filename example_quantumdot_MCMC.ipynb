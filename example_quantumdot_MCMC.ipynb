{
 "cells": [
  {
   "cell_type": "code",
   "execution_count": null,
   "metadata": {},
   "outputs": [],
   "source": [
    "import jax\n",
    "jax.config.update(\"jax_enable_x64\", True)\n",
    "import jax.numpy as jnp\n",
    "import numpy as np\n",
    "import haiku as hk\n",
    "import optax\n",
    "import matplotlib.pyplot as plt \n",
    "from IPython import display"
   ]
  },
  {
   "cell_type": "code",
   "execution_count": null,
   "metadata": {},
   "outputs": [],
   "source": [
    "print(jax.devices())\n",
    "!nvidia-smi"
   ]
  },
  {
   "cell_type": "code",
   "execution_count": null,
   "metadata": {},
   "outputs": [],
   "source": [
    "key = jax.random.PRNGKey(0)\n",
    "\n",
    "n = 6\n",
    "dim = 2\n",
    "batch = 1024\n",
    "beta = 10.0\n",
    "\n",
    "mc_steps = 100\n",
    "mc_width = 0.1\n",
    "iters = 20"
   ]
  },
  {
   "cell_type": "markdown",
   "metadata": {},
   "source": [
    "$$H= \\sum_{i<j} \\frac{1}{|\\boldsymbol{x}_i - \\boldsymbol{x}_j|} + \\sum_i  \\boldsymbol{x}_i^2 . $$"
   ]
  },
  {
   "cell_type": "code",
   "execution_count": null,
   "metadata": {},
   "outputs": [],
   "source": [
    "def energy_fn(x, n, dim):\n",
    "    i, j = jnp.triu_indices(n, k=1)\n",
    "    rij = jnp.linalg.norm((jnp.reshape(x, (n, 1, dim)) - jnp.reshape(x, (1, n, dim)))[i,j], axis=-1)\n",
    "    return jnp.sum(x**2) + jnp.sum(1/rij)\n",
    "\n",
    "batch_energy = jax.vmap(energy_fn, (0, None, None), 0)"
   ]
  },
  {
   "cell_type": "code",
   "execution_count": null,
   "metadata": {},
   "outputs": [],
   "source": [
    "from functools import partial\n",
    "@partial(jax.jit, static_argnums=0)\n",
    "def mcmc(logp_fn, x_init, key, mc_steps, mc_width):\n",
    "    \"\"\"\n",
    "        Markov Chain Monte Carlo sampling algorithm.\n",
    "    \"\"\"\n",
    "    def step(i, state):\n",
    "        x, logp, key, num_accepts = state\n",
    "        key, key_proposal, key_accept = jax.random.split(key, 3)\n",
    "        \n",
    "        x_proposal = x + mc_width * jax.random.normal(key_proposal, x.shape)\n",
    "        logp_proposal = logp_fn(x_proposal)\n",
    "\n",
    "        ratio = jnp.exp((logp_proposal - logp))\n",
    "        accept = jax.random.uniform(key_accept, ratio.shape) < ratio\n",
    "\n",
    "        x_new = jnp.where(accept[:, None, None], x_proposal, x)\n",
    "        logp_new = jnp.where(accept, logp_proposal, logp)\n",
    "        num_accepts += accept.sum()\n",
    "        return x_new, logp_new, key, num_accepts\n",
    "    \n",
    "    logp_init = logp_fn(x_init)\n",
    "\n",
    "    x, logp, key, num_accepts = jax.lax.fori_loop(0, mc_steps, step, (x_init, logp_init, key, 0.))\n",
    "    batch = x.shape[0]\n",
    "    accept_rate = num_accepts / (mc_steps * batch)\n",
    "    return x, accept_rate"
   ]
  },
  {
   "cell_type": "code",
   "execution_count": null,
   "metadata": {},
   "outputs": [],
   "source": [
    "@partial(jax.vmap, in_axes=(None, 0, None, None))\n",
    "def logp(beta, x, n, dim):\n",
    "    return -beta * energy_fn(x, n, dim)"
   ]
  },
  {
   "cell_type": "code",
   "execution_count": null,
   "metadata": {},
   "outputs": [],
   "source": [
    "x = jax.random.normal(key, (batch, n, dim))\n",
    "\n",
    "for ii in range(iters):\n",
    "      \n",
    "    key, key_mcmc = jax.random.split(key, 2)\n",
    "    \n",
    "    logp_fn = lambda x: logp(beta, x, n, dim)\n",
    "    x, acc = mcmc(logp_fn, x, key_mcmc, mc_steps, mc_width)\n",
    "    energy = jax.vmap(energy_fn, (0, None, None), 0)(x, n, dim)\n",
    "    E = jnp.mean(energy)\n",
    "    \n",
    "    print(\"step: %.3d    E: %.6f    acc: %.3f    mc_width: %.3f\"\n",
    "      %(ii, E, acc, mc_width))\n",
    "    \n",
    "    if acc > 0.525: mc_width *= 1.05\n",
    "    if acc < 0.475: mc_width *= 0.95"
   ]
  },
  {
   "cell_type": "code",
   "execution_count": null,
   "metadata": {},
   "outputs": [],
   "source": [
    "plot_x = jnp.reshape(x, (batch*n, dim)) \n",
    "#density plot\n",
    "fig = plt.figure(figsize=(4, 4), dpi=300)\n",
    "H, xedges, yedges = np.histogram2d(plot_x[:, 0], plot_x[:, 1], \n",
    "                    bins=200, range=((-4, 4), (-4, 4)), density=True)\n",
    "\n",
    "plt.imshow(H, interpolation=\"nearest\", \n",
    "               extent=(xedges[0], xedges[-1], yedges[0], yedges[-1]),\n",
    "               cmap=\"inferno\")"
   ]
  }
 ],
 "metadata": {
  "kernelspec": {
   "display_name": "Python 3 (ipykernel)",
   "language": "python",
   "name": "python3"
  },
  "language_info": {
   "codemirror_mode": {
    "name": "ipython",
    "version": 3
   },
   "file_extension": ".py",
   "mimetype": "text/x-python",
   "name": "python",
   "nbconvert_exporter": "python",
   "pygments_lexer": "ipython3",
   "version": "3.12.2"
  }
 },
 "nbformat": 4,
 "nbformat_minor": 2
}
